{
 "cells": [
  {
   "cell_type": "markdown",
   "metadata": {},
   "source": [
    "# DEVSIM TCAD simulator\n",
    "\n",
    "[DEVSIM](https://devsim.org/) is an open-source semiconductor device simulator. See [publication](https://joss.theoj.org/papers/10.21105/joss.03898).\n",
    "\n",
    "Some of its features include:\n",
    "\n",
    "* Sharfetter-Gummel discretization of the electron and hole continuity equations\n",
    "* DC, transient, small-signal AC, and noise solution algorithms\n",
    "* Solution of 1D, 2D, and 3D unstructured meshes\n",
    "* Advanced models for mobility and semiclassical approaches for quantum effects\n",
    "\n",
    "\n",
    "It allows scripting new models and derivatives thanks to its a symbolic model evaluation interface\n",
    "\n",
    "There is an active community over at the [DEVSIM forums](https://forum.devsim.org/).\n",
    "\n",
    "## Meshing\n",
    "\n",
    "DEVSIM solves equations on unstructured meshes.\n",
    "It has a built-in 1D and 2D meshing interface, you can solve carrier distributions in waveguide cross-sections.\n",
    "It also interfaces with GMSH for arbitrary 2D and 3D meshes, which you can use for running semiconductor simulations with gdsfactory components.\n",
    "\n",
    "![](https://i.imgur.com/hsuzB5K.png)\n",
    "\n",
    "## Install DEVSIM\n",
    "\n",
    "To install DEVSIM you can run `pip install devsim` or `pip install gdsfactory[full]`."
   ]
  },
  {
   "cell_type": "markdown",
   "metadata": {},
   "source": [
    "## DC Drift-diffusion simulation\n"
   ]
  },
  {
   "cell_type": "markdown",
   "metadata": {},
   "source": [
    "You can setup the simulation by defining a strip waveguide cross-section.\n",
    "You can change waveguide geometry (core thickness, slab thickness, core width), doping configuration (dopant level, dopant positions), as well as hyperparameters like adaptive mesh resolution at all the interfaces."
   ]
  },
  {
   "cell_type": "code",
   "execution_count": null,
   "metadata": {},
   "outputs": [],
   "source": [
    "from gdsfactory.simulation.devsim import get_simulation_xsection"
   ]
  },
  {
   "cell_type": "code",
   "execution_count": null,
   "metadata": {},
   "outputs": [],
   "source": [
    "%%capture\n",
    "\n",
    "nm = 1e-9\n",
    "\n",
    "c = get_simulation_xsection.PINWaveguide(\n",
    "    wg_width=500 * nm,\n",
    "    wg_thickness=220 * nm,\n",
    "    slab_thickness=90 * nm,\n",
    ")\n",
    "\n",
    "# Initialize mesh and solver\n",
    "c.ddsolver()"
   ]
  },
  {
   "cell_type": "markdown",
   "metadata": {},
   "source": [
    "You can save the device to a tecplot file named `filename.dat` with `c.save_device(filename=filename.dat)`, and then open with [Paraview](https://www.paraview.org/).\n",
    "\n",
    "You can also plot the mesh in the Notebook with the `plot` method. By default it shows the geometry.\n",
    "You can also pass a string to `scalars` to plot a field as color over the mesh.\n",
    "For instance, acceptor concentration and donor concentration for the PN junction.\n",
    "\n",
    "`list_fields()` returns the header of the mesh, which lists all possible fields."
   ]
  },
  {
   "cell_type": "code",
   "execution_count": null,
   "metadata": {},
   "outputs": [],
   "source": [
    "c.list_fields()"
   ]
  },
  {
   "cell_type": "markdown",
   "metadata": {},
   "source": [
    "Finite-element field information can be plotted using pyvista (note that lengths in DEVSIM are cm by default):"
   ]
  },
  {
   "cell_type": "code",
   "execution_count": null,
   "metadata": {},
   "outputs": [],
   "source": [
    "c.plot(scalars=\"NetDoping\")"
   ]
  },
  {
   "cell_type": "code",
   "execution_count": null,
   "metadata": {},
   "outputs": [],
   "source": [
    "c.plot(scalars=\"Electrons\", log_scale=True)"
   ]
  },
  {
   "cell_type": "markdown",
   "metadata": {},
   "source": [
    "### Solve\n",
    "\n",
    "Using default DEVSIM silicon models, we iteratively solve for the self-consistent carrier distribution for 0.5V of applied forward voltage, iterating with 0.1V steps, and then visualize the electron concentration:"
   ]
  },
  {
   "cell_type": "code",
   "execution_count": null,
   "metadata": {},
   "outputs": [],
   "source": [
    "%%capture\n",
    "# Find a solution with 1V across the junction, ramping by 0.1V steps\n",
    "c.ramp_voltage(Vfinal=0.5, Vstep=0.1)"
   ]
  },
  {
   "cell_type": "code",
   "execution_count": null,
   "metadata": {},
   "outputs": [],
   "source": [
    "c.plot(scalars=\"Electrons\", log_scale=True)"
   ]
  },
  {
   "cell_type": "markdown",
   "metadata": {},
   "source": [
    "and similarly for reverse-bias:"
   ]
  },
  {
   "cell_type": "code",
   "execution_count": null,
   "metadata": {},
   "outputs": [],
   "source": [
    "%%capture\n",
    "c.ramp_voltage(Vfinal=-0.5, Vstep=-0.1)"
   ]
  },
  {
   "cell_type": "code",
   "execution_count": null,
   "metadata": {},
   "outputs": [],
   "source": [
    "c.plot(scalars=\"Electrons\", log_scale=True)"
   ]
  },
  {
   "cell_type": "markdown",
   "metadata": {},
   "source": [
    "# mode solver interface\n",
    "\n",
    "The carrier distribution can be used to create a mode solver object with perturbed index, and to acquire the effective index as a function of applied voltage:"
   ]
  },
  {
   "cell_type": "code",
   "execution_count": null,
   "metadata": {},
   "outputs": [],
   "source": [
    "%%capture\n",
    "voltages = [0, -0.5, -1, -1.5, -2, -2.5, -3, -3.5, -4]\n",
    "ramp_rate = -0.1\n",
    "\n",
    "n_dist = {}\n",
    "neffs = {}\n",
    "\n",
    "for ind, voltage in enumerate(voltages):\n",
    "    if ind == 0:\n",
    "        Vinit = 0\n",
    "    else:\n",
    "        Vinit = voltages[ind - 1]\n",
    "\n",
    "    c.ramp_voltage(Vfinal=voltage, Vstep=ramp_rate, Vinit=Vinit)\n",
    "    waveguide = c.make_waveguide(wavelength=1.55)\n",
    "    waveguide.compute_modes(\n",
    "        isolate=True\n",
    "    )  # Isolate flag runs the mode solver in another interpreter, use if solver has issues\n",
    "    n_dist[voltage] = waveguide.nx\n",
    "    neffs[voltage] = waveguide.neffs[0]"
   ]
  },
  {
   "cell_type": "code",
   "execution_count": null,
   "metadata": {},
   "outputs": [],
   "source": [
    "import matplotlib.pyplot as plt\n",
    "import numpy as np\n",
    "\n",
    "voltage_list = sorted(neffs.items())\n",
    "x, y = zip(*voltage_list)\n",
    "\n",
    "plt.plot(x, np.real(y) - neffs[0])\n",
    "\n",
    "plt.xlabel(\"Voltage (V)\")\n",
    "plt.ylabel(\"$\\Delta n_{eff}$\")"
   ]
  },
  {
   "cell_type": "code",
   "execution_count": null,
   "metadata": {},
   "outputs": [],
   "source": [
    "import matplotlib.pyplot as plt\n",
    "from gdsfactory.simulation.devsim.get_simulation_xsection import k_to_alpha\n",
    "\n",
    "voltage_list = sorted(neffs.items())\n",
    "x, y = zip(*voltage_list)\n",
    "\n",
    "plt.plot(x, -10 * np.log10(1 - k_to_alpha(np.imag(y), wavelength=1.55)))\n",
    "\n",
    "plt.xlabel(\"Voltage (V)\")\n",
    "plt.ylabel(r\"$\\alpha (dB/cm)$\")"
   ]
  },
  {
   "cell_type": "markdown",
   "metadata": {},
   "source": [
    "We can compare the index distribution the same undoped waveguide:"
   ]
  },
  {
   "cell_type": "code",
   "execution_count": null,
   "metadata": {},
   "outputs": [],
   "source": [
    "c_undoped = c.make_waveguide(wavelength=1.55, perturb=False, precision=\"double\")\n",
    "c_undoped.compute_modes()\n",
    "n_undoped = c_undoped.nx"
   ]
  },
  {
   "cell_type": "code",
   "execution_count": null,
   "metadata": {},
   "outputs": [],
   "source": [
    "import numpy as np\n",
    "\n",
    "plt.imshow(\n",
    "    np.log(np.abs(np.real(n_dist[0].T - n_undoped.T))),\n",
    "    origin=\"lower\",\n",
    "    extent=[\n",
    "        -c.xmargin - c.ppp_offset - c.wg_width / 2,\n",
    "        c.xmargin + c.npp_offset + c.wg_width / 2,\n",
    "        0,\n",
    "        c.t_clad + c.t_box + c.wg_thickness,\n",
    "    ],\n",
    ")\n",
    "plt.colorbar(label=\"$log10(|n_{doped} - n_{undoped}|)$\")\n",
    "plt.xlabel(\"x (m)\")\n",
    "plt.ylabel(\"y (m)\")\n",
    "plt.ylim(1.72e-6, 2.5e-6)\n",
    "plt.title(\"Voltage = 0V\")"
   ]
  },
  {
   "cell_type": "code",
   "execution_count": null,
   "metadata": {},
   "outputs": [],
   "source": [
    "plt.imshow(\n",
    "    np.log(np.abs(np.real(n_dist[-4].T - n_undoped.T))),\n",
    "    origin=\"lower\",\n",
    "    extent=[\n",
    "        -c.xmargin - c.ppp_offset - c.wg_width / 2,\n",
    "        c.xmargin + c.npp_offset + c.wg_width / 2,\n",
    "        0,\n",
    "        c.t_clad + c.t_box + c.wg_thickness,\n",
    "    ],\n",
    ")\n",
    "plt.colorbar(label=\"$log10(|n_{doped} - n_{undoped}|)$\")\n",
    "plt.xlabel(\"x (m)\")\n",
    "plt.ylabel(\"y (m)\")\n",
    "plt.ylim(1.72e-6, 2.5e-6)\n",
    "plt.title(\"Voltage = -4V\")"
   ]
  },
  {
   "cell_type": "code",
   "execution_count": null,
   "metadata": {},
   "outputs": [],
   "source": [
    "import numpy as np\n",
    "\n",
    "plt.imshow(\n",
    "    np.log(np.abs(np.imag(n_dist[0].T - n_undoped.T))),\n",
    "    origin=\"lower\",\n",
    "    extent=[\n",
    "        -c.xmargin - c.ppp_offset - c.wg_width / 2,\n",
    "        c.xmargin + c.npp_offset + c.wg_width / 2,\n",
    "        0,\n",
    "        c.t_clad + c.t_box + c.wg_thickness,\n",
    "    ],\n",
    ")\n",
    "plt.colorbar(label=\"$log10(|\\kappa_{doped} - \\kappa_{undoped}|)$\")\n",
    "plt.xlabel(\"x (m)\")\n",
    "plt.ylabel(\"y (m)\")\n",
    "plt.ylim(1.72e-6, 2.5e-6)\n",
    "plt.title(\"Voltage = 0V\")"
   ]
  },
  {
   "cell_type": "code",
   "execution_count": null,
   "metadata": {
    "lines_to_next_cell": 2
   },
   "outputs": [],
   "source": [
    "import numpy as np\n",
    "\n",
    "plt.imshow(\n",
    "    np.log(np.abs(np.imag(n_dist[-4].T))),\n",
    "    origin=\"lower\",\n",
    "    extent=[\n",
    "        -c.xmargin - c.ppp_offset - c.wg_width / 2,\n",
    "        c.xmargin + c.npp_offset + c.wg_width / 2,\n",
    "        0,\n",
    "        c.t_clad + c.t_box + c.wg_thickness,\n",
    "    ],\n",
    ")\n",
    "plt.colorbar(label=\"$log10(|\\kappa_{doped} - \\kappa_{undoped}|)$\")\n",
    "plt.xlabel(\"x (m)\")\n",
    "plt.ylabel(\"y (m)\")\n",
    "plt.ylim(1.72e-6, 2.5e-6)\n",
    "plt.title(\"Voltage = -4V\")"
   ]
  },
  {
   "cell_type": "code",
   "execution_count": null,
   "metadata": {},
   "outputs": [],
   "source": []
  }
 ],
 "metadata": {
  "kernelspec": {
   "display_name": "Python 3 (ipykernel)",
   "language": "python",
   "name": "python3"
  },
  "language_info": {
   "codemirror_mode": {
    "name": "ipython",
    "version": 3
   },
   "file_extension": ".py",
   "mimetype": "text/x-python",
   "name": "python",
   "nbconvert_exporter": "python",
   "pygments_lexer": "ipython3",
   "version": "3.10.6"
  },
  "nbsphinx": {
   "execute": "never"
  },
  "vscode": {
   "interpreter": {
    "hash": "f9aab3c5d771b34260c96e93c5e8b06eadc8db6bfb58580f0c5b3c9174af4b1f"
   }
  }
 },
 "nbformat": 4,
 "nbformat_minor": 4
}
