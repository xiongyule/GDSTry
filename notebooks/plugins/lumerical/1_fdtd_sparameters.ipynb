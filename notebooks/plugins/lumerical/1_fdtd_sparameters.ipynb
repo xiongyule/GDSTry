{
 "cells": [
  {
   "cell_type": "markdown",
   "metadata": {},
   "source": [
    "# FDTD Lumerical\n",
    "\n",
    "gdsfactory provides you with a Lumerical FDTD interface to calculate Sparameters automatically  (without you having to click around the Lumerical GUI)\n",
    "\n",
    "The function `gdsfactory.simulation.lumerical.write_sparameters_lumerical` brings up a GUI, runs simulation and then writes the Sparameters both in .CSV and .DAT (Lumerical interconnect / simphony) file formats, as well as the simulation settings in YAML format.\n",
    "\n",
    "In the CSV format each Sparameter will have 2 columns, `o1@0,o2@0` where `m` stands for magnitude and `s12a` where `a` stands for angle in radians.\n",
    "\n",
    "For the simulation to wor well, your components need to have ports, that will be extended automatically to go over the PML.\n",
    "\n",
    "![lum GUI](https://i.imgur.com/dHAzZRw.png)\n",
    "\n",
    "\n",
    "The script calls internally the lumerical python API `lumapi` so you will need to make sure that you can run this from python.\n",
    "\n",
    "```python\n",
    "import lumapi\n",
    "\n",
    "session = lumapi.FDTD()\n",
    "```\n",
    "\n",
    "In linux that may require you to export the PYTHONPATH variable in your shell environment.\n",
    "\n",
    "You can add one line into your `.bashrc` in your Linux machine.\n",
    "\n",
    "\n",
    "```bash\n",
    "[ -d \"/opt/lumerical\" ] && export PATH=$PATH:/opt/lumerical/$(ls /opt/lumerical)/bin && export PYTHONPATH=/opt/lumerical/$(ls /opt/lumerical)/api/python\n",
    "```\n",
    "\n",
    "\n",
    "Finally, You can chain the Sparameters to calculate solve of larger circuits using a circuit solver such as:\n",
    "\n",
    "- Lumerical interconnect\n",
    "- [simphony (open source)](https://simphonyphotonics.readthedocs.io/en/latest/)\n",
    "- [sax (open source)](https://sax.readthedocs.io/en/latest/index.html)\n"
   ]
  },
  {
   "cell_type": "code",
   "execution_count": null,
   "metadata": {},
   "outputs": [],
   "source": [
    "import gdsfactory as gf\n",
    "import gdsfactory.simulation.lumerical as sim\n",
    "\n",
    "gf.tech.SIMULATION_SETTINGS_LUMERICAL_FDTD"
   ]
  },
  {
   "cell_type": "code",
   "execution_count": null,
   "metadata": {},
   "outputs": [],
   "source": [
    "sim.write_sparameters_lumerical?"
   ]
  },
  {
   "cell_type": "code",
   "execution_count": null,
   "metadata": {},
   "outputs": [],
   "source": [
    "# NBVAL_SKIP\n",
    "import gdsfactory as gf\n",
    "import gdsfactory.simulation.lumerical as sim\n",
    "import lumapi\n",
    "\n",
    "s = lumapi.FDTD()"
   ]
  },
  {
   "cell_type": "code",
   "execution_count": null,
   "metadata": {},
   "outputs": [],
   "source": [
    "gf.components.cells.keys()"
   ]
  },
  {
   "cell_type": "code",
   "execution_count": null,
   "metadata": {},
   "outputs": [],
   "source": [
    "components = [\n",
    "    \"bend_euler\",\n",
    "    \"bend_s\",\n",
    "    \"coupler\",\n",
    "    \"coupler_ring\",\n",
    "    \"crossing\",\n",
    "    \"mmi1x2\",\n",
    "    \"mmi2x2\",\n",
    "    \"taper\",\n",
    "    \"straight\",\n",
    "]\n",
    "need_review = []\n",
    "\n",
    "for component_name in components:\n",
    "    component = gf.components.cells[component_name]()\n",
    "    sim.write_sparameters_lumerical(component, run=False, session=s)\n",
    "    response = input(f\"does the simulation for {component_name} look good? (y/n)\")\n",
    "    if response.upper()[0] == \"N\":\n",
    "        need_review.append(componnent_name)"
   ]
  },
  {
   "cell_type": "markdown",
   "metadata": {},
   "source": [
    "## Modify layer stack\n",
    "\n",
    "All layers information is passed to the Lumerical simulator through the layer_stack\n",
    "\n",
    "\n",
    "### Layer thickness\n",
    "\n",
    "You can modify the thickness of any specific layer of the stack. For example lets increase the core thickness to `230 nm`"
   ]
  },
  {
   "cell_type": "code",
   "execution_count": null,
   "metadata": {},
   "outputs": [],
   "source": [
    "from gdsfactory.tech import LAYER_STACK"
   ]
  },
  {
   "cell_type": "code",
   "execution_count": null,
   "metadata": {},
   "outputs": [],
   "source": [
    "LAYER_STACK"
   ]
  },
  {
   "cell_type": "code",
   "execution_count": null,
   "metadata": {},
   "outputs": [],
   "source": [
    "layer_stack2 = LAYER_STACK"
   ]
  },
  {
   "cell_type": "code",
   "execution_count": null,
   "metadata": {},
   "outputs": [],
   "source": [
    "nm = 1e-3\n",
    "layer_stack2[\"core\"].thickness = 230 * nm"
   ]
  },
  {
   "cell_type": "code",
   "execution_count": null,
   "metadata": {},
   "outputs": [],
   "source": [
    "layer_stack2[\"core\"].thickness"
   ]
  },
  {
   "cell_type": "code",
   "execution_count": null,
   "metadata": {},
   "outputs": [],
   "source": [
    "sim.write_sparameters_lumerical(\n",
    "    gf.components.mmi1x2(), layer_stack=layer_stack2, run=False, session=s\n",
    ")"
   ]
  },
  {
   "cell_type": "markdown",
   "metadata": {},
   "source": [
    "You will be able to see the layer thickness increase in the lumerical GUI\n",
    "\n",
    "![thickness](https://i.imgur.com/Hxe7BuC.png)"
   ]
  },
  {
   "cell_type": "markdown",
   "metadata": {},
   "source": [
    "### Layer material or index\n",
    "\n",
    "You can also modify the material refractive index or material name from the Lumerical Material database\n",
    "\n",
    "\n",
    "material: material spec, can be\n",
    "\n",
    "-  a string from lumerical database materials.\n",
    "-  a complex for n, k materials.\n",
    "-  a float or int, representing refractive index.\n"
   ]
  },
  {
   "cell_type": "code",
   "execution_count": null,
   "metadata": {},
   "outputs": [],
   "source": [
    "LAYER_STACK"
   ]
  },
  {
   "cell_type": "code",
   "execution_count": null,
   "metadata": {},
   "outputs": [],
   "source": [
    "material_name_to_lumerical = dict(si=3.6)\n",
    "\n",
    "sim.write_sparameters_lumerical(\n",
    "    gf.components.mmi1x2(),\n",
    "    layer_stack=layer_stack2,\n",
    "    run=False,\n",
    "    session=s,\n",
    "    material_name_to_lumerical=material_name_to_lumerical,\n",
    ")"
   ]
  },
  {
   "cell_type": "markdown",
   "metadata": {},
   "source": [
    "\n",
    "![stack](https://i.imgur.com/ywfnH6h.png)\n"
   ]
  },
  {
   "cell_type": "code",
   "execution_count": null,
   "metadata": {},
   "outputs": [],
   "source": [
    "component = gf.components.mmi1x2()\n",
    "material_name_to_lumerical = dict(si=(3.45, 2))  # or dict(si=3.45+2j)\n",
    "\n",
    "r = sim.write_sparameters_lumerical(\n",
    "    component=component,\n",
    "    material_name_to_lumerical=material_name_to_lumerical,\n",
    "    run=False,\n",
    "    session=s,\n",
    ")"
   ]
  },
  {
   "cell_type": "markdown",
   "metadata": {},
   "source": [
    "![complex index](https://i.imgur.com/Tbv1Mbb.png)"
   ]
  },
  {
   "cell_type": "code",
   "execution_count": null,
   "metadata": {},
   "outputs": [],
   "source": [
    "material_name_to_lumerical = dict(si=\"InP - Palik\")\n",
    "\n",
    "sim.write_sparameters_lumerical(\n",
    "    gf.components.mmi1x2(),\n",
    "    layer_stack=layer_stack2,\n",
    "    run=False,\n",
    "    session=s,\n",
    "    material_name_to_lumerical=material_name_to_lumerical,\n",
    ")"
   ]
  },
  {
   "cell_type": "markdown",
   "metadata": {},
   "source": [
    "![extra](https://i.imgur.com/75IR6fa.png)"
   ]
  },
  {
   "cell_type": "markdown",
   "metadata": {},
   "source": [
    "gdsfactory can also compute the Sparameters of a component that have not been simulated before."
   ]
  },
  {
   "cell_type": "code",
   "execution_count": null,
   "metadata": {},
   "outputs": [],
   "source": [
    "sim.write_sparameters_lumerical(gf.components.mmi1x2())"
   ]
  },
  {
   "cell_type": "code",
   "execution_count": null,
   "metadata": {},
   "outputs": [],
   "source": [
    "sim.plot.plot_sparameters(gf.components.mmi1x2(), keys=[\"S23m\", \"S13m\"], logscale=True)"
   ]
  },
  {
   "cell_type": "markdown",
   "metadata": {},
   "source": [
    "As well as a group of components"
   ]
  },
  {
   "cell_type": "code",
   "execution_count": null,
   "metadata": {},
   "outputs": [],
   "source": [
    "# NBVAL_SKIP\n",
    "\n",
    "components = [\n",
    "    gf.components.coupler_ring(gap=gap, radius=radius)\n",
    "    for gap in [0.15, 0.2, 0.3]\n",
    "    for radius in [5, 10]\n",
    "]\n",
    "\n",
    "for c in components:\n",
    "    c.show(show_ports=True)\n",
    "    print(c)\n",
    "    sim.write_sparameters_lumerical(c)"
   ]
  },
  {
   "cell_type": "markdown",
   "metadata": {},
   "source": [
    "To debug a simulation you can create a Lumerical session outside the simulator, pass it to the simulator, and use `run=False` flag"
   ]
  },
  {
   "cell_type": "code",
   "execution_count": null,
   "metadata": {},
   "outputs": [],
   "source": [
    "# NBVAL_SKIP\n",
    "import lumapi\n",
    "import gdsfactory as gf\n",
    "\n",
    "s = lumapi.FDTD()\n",
    "c = gf.components.straight()\n",
    "sim.write_sparameters_lumerical(c, run=False, session=s)"
   ]
  },
  {
   "cell_type": "markdown",
   "metadata": {},
   "source": [
    "By default gdsfactory uses the generic LayerStack for 0.22um height silicon layer.\n",
    "\n",
    "You can also define any LayerStack"
   ]
  },
  {
   "cell_type": "code",
   "execution_count": null,
   "metadata": {},
   "outputs": [],
   "source": [
    "import gdsfactory as gf\n",
    "\n",
    "\n",
    "def get_layer_stack():\n",
    "    return gf.tech.LayerStack(\n",
    "        wg=gf.tech.LayerLevel(layer=(1, 0), thickness=400e-3, zmin=0.0, material=\"sin\")\n",
    "    )\n",
    "\n",
    "\n",
    "layer_stack = get_layer_stack()"
   ]
  },
  {
   "cell_type": "code",
   "execution_count": null,
   "metadata": {},
   "outputs": [],
   "source": [
    "# NBVAL_SKIP\n",
    "import gdsfactory as gf\n",
    "import gdsfactory.simulation.lumerical as sim\n",
    "\n",
    "c = gf.components.straight()\n",
    "s = sim.write_sparameters_lumerical(c, layer_stack=layer_stack, run=False, session=s)"
   ]
  },
  {
   "cell_type": "code",
   "execution_count": null,
   "metadata": {},
   "outputs": [],
   "source": [
    "dict(si=(2, 3))"
   ]
  },
  {
   "cell_type": "code",
   "execution_count": null,
   "metadata": {},
   "outputs": [],
   "source": [
    "si = (2, 3)"
   ]
  },
  {
   "cell_type": "code",
   "execution_count": null,
   "metadata": {},
   "outputs": [],
   "source": [
    "isinstance(si, (list, tuple))"
   ]
  },
  {
   "cell_type": "code",
   "execution_count": null,
   "metadata": {},
   "outputs": [],
   "source": []
  }
 ],
 "metadata": {
  "kernelspec": {
   "display_name": "Python 3 (ipykernel)",
   "language": "python",
   "name": "python3"
  },
  "language_info": {
   "codemirror_mode": {
    "name": "ipython",
    "version": 3
   },
   "file_extension": ".py",
   "mimetype": "text/x-python",
   "name": "python",
   "nbconvert_exporter": "python",
   "pygments_lexer": "ipython3",
   "version": "3.9.10"
  },
  "nbsphinx": {
   "execute": "never"
  },
  "toc-autonumbering": true,
  "toc-showcode": false,
  "toc-showmarkdowntxt": false,
  "toc-showtags": true
 },
 "nbformat": 4,
 "nbformat_minor": 4
}
