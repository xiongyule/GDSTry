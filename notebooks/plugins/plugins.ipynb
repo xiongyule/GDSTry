{
 "cells": [
  {
   "cell_type": "markdown",
   "id": "f0a03681-86cb-4835-b41d-fd8da98be22a",
   "metadata": {},
   "source": [
    "# Plugins\n",
    "\n",
    "We try to keep gdsfactory core with minimum dependencies.\n",
    "So when you run `pip install gdsfactory` you do not install any plugins by default.\n",
    "If you want to install gdsfactory together with all the plugins you can run\n",
    "\n",
    "```\n",
    "pip install gdsfactory[full]\n",
    "```\n",
    "\n",
    "Here are some of the plugins that you can use in gdsfactory:\n",
    "\n",
    "\n",
    "### Trimesh\n",
    "\n",
    "For (3D rendering and STL export)\n",
    "\n",
    "```\n",
    "pip install trimesh\n",
    "```\n",
    "\n",
    "## Component simulation\n",
    "\n",
    "- Mode solver. Frequency Domain solver to compute modes for different waveguide geometries. Single frequency/wavelength solving. Solve modes supported by a waveguide cross-section\n",
    "  - MPB. See `gdsfactory.simulation.modes`\n",
    "- FDTD: Finite difference time domain wave propagation. Provides broadband wavelength spectrum for a component  described as Sparameters (ratio of output/input field for each port) as a function of wavelength.\n",
    "  - lumerical Ansys FDTD. See `gdsfactory.simulation.lumerical`\n",
    "  - meep. See `gdsfactory.simulation.gmeep`\n",
    "  - tidy3d. See `gdsfactory.simulation.gtidy`\n",
    "\n",
    "FDTD simulators can compute the [Sparameters](https://en.wikipedia.org/wiki/Scattering_parameters) response of a component, which measures the input to output field relationship as a function of wavelength or frequency.\n",
    "\n",
    "Sparameters are common in RF and photonic simulation.\n",
    "\n",
    "Frequency circuit simulations solve the Sparameters of a circuit that connects several components, each of which is described by its Sparameters.\n",
    "\n",
    "\n",
    "## Circuit simulation\n",
    "\n",
    "- Linear circuit solver\n",
    "  - [simphony (open source)](https://simphonyphotonics.readthedocs.io/en/latest/)\n",
    "  - [sax (open source)](https://sax.readthedocs.io/en/latest/index.html)\n",
    "\n",
    "\n",
    "## Store / cache simulations\n",
    "\n",
    "Most plugins leverage a file based cache, where you can store simulation results in files to avoid running the same simulation twice.\n",
    "This saves you a lot of computation time, as each FDTD simulation can take several minutes, or big simulations can take even hours.\n",
    "There are different types of simulation storage that you can use.\n",
    "\n",
    "- [GIT repo](https://github.com/gdsfactory/gdslib)\n",
    "- [DVC](https://dvc.org/)\n",
    "- database\n",
    "\n",
    "\n"
   ]
  }
 ],
 "metadata": {
  "kernelspec": {
   "display_name": "Python 3 (ipykernel)",
   "language": "python",
   "name": "python3"
  },
  "language_info": {
   "codemirror_mode": {
    "name": "ipython",
    "version": 3
   },
   "file_extension": ".py",
   "mimetype": "text/x-python",
   "name": "python",
   "nbconvert_exporter": "python",
   "pygments_lexer": "ipython3",
   "version": "3.9.10"
  }
 },
 "nbformat": 4,
 "nbformat_minor": 5
}
