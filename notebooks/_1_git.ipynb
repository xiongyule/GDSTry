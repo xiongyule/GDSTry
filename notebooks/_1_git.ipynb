{
 "cells": [
  {
   "cell_type": "markdown",
   "metadata": {
    "slideshow": {
     "slide_type": "slide"
    }
   },
   "source": [
    "# Git: Version control intro"
   ]
  },
  {
   "cell_type": "markdown",
   "metadata": {},
   "source": [
    "“Revision control, also known as version control, source control\n",
    "manages changes to documents, programs, and other information stored as computer files -- Wikipedia"
   ]
  },
  {
   "cell_type": "markdown",
   "metadata": {},
   "source": [
    "**Reproducibility?**\n",
    "\n",
    "* Tracking and recreating every step of your work\n",
    "* In the software world: it's called *Version Control*!\n",
    "\n",
    "What do (good) version control tools give you?\n",
    "\n",
    "* Peace of mind (backups)\n",
    "* Freedom (exploratory branching)\n",
    "* Collaboration (synchronization)\n"
   ]
  },
  {
   "cell_type": "markdown",
   "metadata": {
    "slideshow": {
     "slide_type": "slide"
    }
   },
   "source": [
    "## Git is an enabling technology: Use version control for everything"
   ]
  },
  {
   "cell_type": "markdown",
   "metadata": {},
   "source": [
    "* Write documents (never get `paper_v5_john_jane_final_oct22_really_final.tex` by email again!)\n",
    "* Write code\n",
    "* Backup your computer configuration"
   ]
  },
  {
   "cell_type": "markdown",
   "metadata": {},
   "source": [
    "This tutorial is structured in the following way: we will begin with a brief overview of key concepts you need to understand in order for git to really make sense.  We will then dive into hands-on work: after necessary configuration we will discuss 5 \"stages of git\" with scenarios of increasing sophistication and complexity, introducing the necessary commands for each stage:\n",
    "\n",
    "1. Local, single-user, linear workflow\n",
    "2. Single local user, branching\n",
    "3. Using remotes as a single user\n",
    "4. Remotes for collaborating in a small team\n",
    "5. distributed collaboration with large teams with GitHub/GitLab\n"
   ]
  },
  {
   "cell_type": "markdown",
   "metadata": {
    "slideshow": {
     "slide_type": "slide"
    }
   },
   "source": [
    "## Very high level picture: an overview of key concepts"
   ]
  },
  {
   "cell_type": "markdown",
   "metadata": {},
   "source": [
    "The **commit**: *a snapshot of work at a point in time* Every ball in this diagram represents a commit of all the files in a code repository, that we can go later in time, compare it with. We can also add labels/tags to this commits in case we want to develop new features.\n",
    "\n",
    "![](https://i.imgur.com/YpKkBzf.png)\n",
    "\n",
    "Credit: Gitflow Atlassian"
   ]
  },
  {
   "cell_type": "markdown",
   "metadata": {},
   "source": [
    "And this is pretty much the essence of Git!"
   ]
  },
  {
   "cell_type": "markdown",
   "metadata": {},
   "source": [
    "## First things first: git must be configured before first use"
   ]
  },
  {
   "cell_type": "markdown",
   "metadata": {},
   "source": [
    "The minimal amount of configuration for git to work without pestering you is to tell it who you are:\n",
    "\n",
    "### Exercise\n",
    "\n",
    "The preceding `!` marks that this code  will execute in the `terminal` interpreter instead of in `python`\n",
    "\n",
    "Lets tell Git who you are."
   ]
  },
  {
   "cell_type": "code",
   "execution_count": 1,
   "metadata": {
    "execution": {
     "iopub.execute_input": "2022-11-07T00:10:24.946169Z",
     "iopub.status.busy": "2022-11-07T00:10:24.945608Z",
     "iopub.status.idle": "2022-11-07T00:10:25.258395Z",
     "shell.execute_reply": "2022-11-07T00:10:25.257195Z"
    }
   },
   "outputs": [],
   "source": [
    "!git config --global user.name \"joaquin\" # replace joaquin by your name\n",
    "!git config --global user.email \"user@gmail.com\" # replace j by your email"
   ]
  },
  {
   "cell_type": "markdown",
   "metadata": {},
   "source": [
    "And how you will edit text files (it will often ask you to edit messages and other information, and thus wants to know how you like to edit your files):"
   ]
  },
  {
   "cell_type": "code",
   "execution_count": 2,
   "metadata": {
    "execution": {
     "iopub.execute_input": "2022-11-07T00:10:25.263407Z",
     "iopub.status.busy": "2022-11-07T00:10:25.263116Z",
     "iopub.status.idle": "2022-11-07T00:10:25.565890Z",
     "shell.execute_reply": "2022-11-07T00:10:25.564531Z"
    }
   },
   "outputs": [],
   "source": [
    "# Put here your preferred editor. If this is not set, git will honor the $EDITOR environment variable\n",
    "# On Windows: Notepad works, Notepad++, sublime or atom\n",
    "# On mac/linux: vim, sublime or atom as a basic option\n",
    "!git config --global core.editor nvim  # my lightweight neovim editor\n",
    "\n",
    "# And while we're at it, we also turn on the use of color, which is very useful\n",
    "!git config --global color.ui \"auto\""
   ]
  },
  {
   "cell_type": "markdown",
   "metadata": {},
   "source": [
    "## Stage 0: Configure GIT"
   ]
  },
  {
   "cell_type": "markdown",
   "metadata": {},
   "source": [
    "Github is offers in its help pages instructions on how to configure the credentials helper for [Mac OSX](https://help.github.com/articles/set-up-git#platform-mac) and [Windows](https://help.github.com/articles/set-up-git#platform-windows)."
   ]
  },
  {
   "cell_type": "markdown",
   "metadata": {},
   "source": [
    "First we are going to create an SSH key that you can upload to Gitlab to recognize you. The key has a private part `id_rsa` that you should keep secret, and a public part `id_rsa.pub` that can upload it to Gitlab so gitlab knows it's you.\n",
    "\n",
    "Uncomment the following 2 lines, and make sure you run them only once, so you generate the key only one time."
   ]
  },
  {
   "cell_type": "code",
   "execution_count": 3,
   "metadata": {
    "execution": {
     "iopub.execute_input": "2022-11-07T00:10:25.571287Z",
     "iopub.status.busy": "2022-11-07T00:10:25.570739Z",
     "iopub.status.idle": "2022-11-07T00:10:25.576207Z",
     "shell.execute_reply": "2022-11-07T00:10:25.575341Z"
    }
   },
   "outputs": [],
   "source": [
    "#! ssh-keygen -f ~/.ssh/id_rsa -t rsa -N ''"
   ]
  },
  {
   "cell_type": "code",
   "execution_count": 4,
   "metadata": {
    "execution": {
     "iopub.execute_input": "2022-11-07T00:10:25.579752Z",
     "iopub.status.busy": "2022-11-07T00:10:25.579495Z",
     "iopub.status.idle": "2022-11-07T00:10:25.582595Z",
     "shell.execute_reply": "2022-11-07T00:10:25.581892Z"
    }
   },
   "outputs": [],
   "source": [
    "#! less ~/.ssh/id_rsa.pub"
   ]
  },
  {
   "cell_type": "markdown",
   "metadata": {},
   "source": [
    "Then paste the key into your Gitlab or github account"
   ]
  },
  {
   "cell_type": "markdown",
   "metadata": {
    "slideshow": {
     "slide_type": "slide"
    }
   },
   "source": [
    "## Stage 1: Local, single-user, linear workflow"
   ]
  },
  {
   "cell_type": "markdown",
   "metadata": {},
   "source": [
    "Simply type `git` to see a full list of all the 'core' commands.  We'll now go through most of these via small practical exercises:"
   ]
  },
  {
   "cell_type": "code",
   "execution_count": 5,
   "metadata": {
    "execution": {
     "iopub.execute_input": "2022-11-07T00:10:25.586101Z",
     "iopub.status.busy": "2022-11-07T00:10:25.585741Z",
     "iopub.status.idle": "2022-11-07T00:10:25.739461Z",
     "shell.execute_reply": "2022-11-07T00:10:25.738032Z"
    }
   },
   "outputs": [
    {
     "name": "stdout",
     "output_type": "stream",
     "text": [
      "usage: git [-v | --version] [-h | --help] [-C <path>] [-c <name>=<value>]\r\n",
      "           [--exec-path[=<path>]] [--html-path] [--man-path] [--info-path]\r\n",
      "           [-p | --paginate | -P | --no-pager] [--no-replace-objects] [--bare]\r\n",
      "           [--git-dir=<path>] [--work-tree=<path>] [--namespace=<name>]\r\n",
      "           [--super-prefix=<path>] [--config-env=<name>=<envvar>]\r\n",
      "           <command> [<args>]\r\n",
      "\r\n",
      "These are common Git commands used in various situations:\r\n",
      "\r\n",
      "start a working area (see also: git help tutorial)\r\n",
      "   clone     Clone a repository into a new directory\r\n",
      "   init      Create an empty Git repository or reinitialize an existing one\r\n",
      "\r\n",
      "work on the current change (see also: git help everyday)\r\n",
      "   add       Add file contents to the index\r\n",
      "   mv        Move or rename a file, a directory, or a symlink\r\n",
      "   restore   Restore working tree files\r\n",
      "   rm        Remove files from the working tree and from the index\r\n",
      "\r\n",
      "examine the history and state (see also: git help revisions)\r\n",
      "   bisect    Use binary search to find the commit that introduced a bug\r\n",
      "   diff      Show changes between commits, commit and working tree, etc\r\n",
      "   grep      Print lines matching a pattern\r\n",
      "   log       Show commit logs\r\n",
      "   show      Show various types of objects\r\n",
      "   status    Show the working tree status\r\n",
      "\r\n",
      "grow, mark and tweak your common history\r\n",
      "   branch    List, create, or delete branches\r\n",
      "   commit    Record changes to the repository\r\n",
      "   merge     Join two or more development histories together\r\n",
      "   rebase    Reapply commits on top of another base tip\r\n",
      "   reset     Reset current HEAD to the specified state\r\n",
      "   switch    Switch branches\r\n",
      "   tag       Create, list, delete or verify a tag object signed with GPG\r\n",
      "\r\n",
      "collaborate (see also: git help workflows)\r\n",
      "   fetch     Download objects and refs from another repository\r\n",
      "   pull      Fetch from and integrate with another repository or a local branch\r\n",
      "   push      Update remote refs along with associated objects\r\n",
      "\r\n",
      "'git help -a' and 'git help -g' list available subcommands and some\r\n",
      "concept guides. See 'git help <command>' or 'git help <concept>'\r\n",
      "to read about a specific subcommand or concept.\r\n",
      "See 'git help git' for an overview of the system.\r\n"
     ]
    }
   ],
   "source": [
    "!git"
   ]
  },
  {
   "cell_type": "markdown",
   "metadata": {},
   "source": [
    "We are going to create a test repo for git to play"
   ]
  },
  {
   "cell_type": "markdown",
   "metadata": {
    "slideshow": {
     "slide_type": "slide"
    }
   },
   "source": [
    "### `git init`: create an empty repository\n",
    "\n",
    "first we create a folder called `playground_repo`"
   ]
  },
  {
   "cell_type": "code",
   "execution_count": 6,
   "metadata": {
    "execution": {
     "iopub.execute_input": "2022-11-07T00:10:25.744767Z",
     "iopub.status.busy": "2022-11-07T00:10:25.744057Z",
     "iopub.status.idle": "2022-11-07T00:10:25.897662Z",
     "shell.execute_reply": "2022-11-07T00:10:25.896167Z"
    }
   },
   "outputs": [],
   "source": [
    "! mkdir playground_repo"
   ]
  },
  {
   "cell_type": "code",
   "execution_count": 7,
   "metadata": {
    "execution": {
     "iopub.execute_input": "2022-11-07T00:10:25.903041Z",
     "iopub.status.busy": "2022-11-07T00:10:25.902378Z",
     "iopub.status.idle": "2022-11-07T00:10:25.908589Z",
     "shell.execute_reply": "2022-11-07T00:10:25.907904Z"
    }
   },
   "outputs": [
    {
     "name": "stdout",
     "output_type": "stream",
     "text": [
      "/home/runner/work/gdsfactory/gdsfactory/docs/notebooks/playground_repo\n"
     ]
    }
   ],
   "source": [
    "cd playground_repo"
   ]
  },
  {
   "cell_type": "markdown",
   "metadata": {},
   "source": [
    "Let's look at what git did:"
   ]
  },
  {
   "cell_type": "code",
   "execution_count": 8,
   "metadata": {
    "execution": {
     "iopub.execute_input": "2022-11-07T00:10:25.911743Z",
     "iopub.status.busy": "2022-11-07T00:10:25.911511Z",
     "iopub.status.idle": "2022-11-07T00:10:26.064696Z",
     "shell.execute_reply": "2022-11-07T00:10:26.063684Z"
    }
   },
   "outputs": [
    {
     "name": "stdout",
     "output_type": "stream",
     "text": [
      "total 8\r\n",
      "drwxr-xr-x 2 runner docker 4096 Nov  7 00:10 \u001b[0m\u001b[01;34m.\u001b[0m/\r\n",
      "drwxr-xr-x 6 runner docker 4096 Nov  7 00:10 \u001b[01;34m..\u001b[0m/\r\n"
     ]
    }
   ],
   "source": [
    "ls -la"
   ]
  },
  {
   "cell_type": "markdown",
   "metadata": {},
   "source": [
    "The folder is empty now.\n",
    "\n",
    "Lets create a new repo in the folder."
   ]
  },
  {
   "cell_type": "code",
   "execution_count": 9,
   "metadata": {
    "execution": {
     "iopub.execute_input": "2022-11-07T00:10:26.069739Z",
     "iopub.status.busy": "2022-11-07T00:10:26.068978Z",
     "iopub.status.idle": "2022-11-07T00:10:26.228720Z",
     "shell.execute_reply": "2022-11-07T00:10:26.227105Z"
    }
   },
   "outputs": [
    {
     "name": "stdout",
     "output_type": "stream",
     "text": [
      "\u001b[33mhint: Using 'master' as the name for the initial branch. This default branch name\u001b[m\r\n",
      "\u001b[33mhint: is subject to change. To configure the initial branch name to use in all\u001b[m\r\n",
      "\u001b[33mhint: of your new repositories, which will suppress this warning, call:\u001b[m\r\n",
      "\u001b[33mhint: \u001b[m\r\n",
      "\u001b[33mhint: \tgit config --global init.defaultBranch <name>\u001b[m\r\n",
      "\u001b[33mhint: \u001b[m\r\n",
      "\u001b[33mhint: Names commonly chosen instead of 'master' are 'main', 'trunk' and\u001b[m\r\n",
      "\u001b[33mhint: 'development'. The just-created branch can be renamed via this command:\u001b[m\r\n",
      "\u001b[33mhint: \u001b[m\r\n",
      "\u001b[33mhint: \tgit branch -m <name>\u001b[m\r\n",
      "Initialized empty Git repository in /home/runner/work/gdsfactory/gdsfactory/docs/notebooks/playground_repo/.git/\r\n"
     ]
    }
   ],
   "source": [
    "! git init"
   ]
  },
  {
   "cell_type": "code",
   "execution_count": 10,
   "metadata": {
    "execution": {
     "iopub.execute_input": "2022-11-07T00:10:26.233754Z",
     "iopub.status.busy": "2022-11-07T00:10:26.233368Z",
     "iopub.status.idle": "2022-11-07T00:10:26.402456Z",
     "shell.execute_reply": "2022-11-07T00:10:26.399419Z"
    }
   },
   "outputs": [
    {
     "name": "stdout",
     "output_type": "stream",
     "text": [
      "total 12\r\n",
      "drwxr-xr-x 3 runner docker 4096 Nov  7 00:10 \u001b[0m\u001b[01;34m.\u001b[0m/\r\n",
      "drwxr-xr-x 6 runner docker 4096 Nov  7 00:10 \u001b[01;34m..\u001b[0m/\r\n",
      "drwxr-xr-x 7 runner docker 4096 Nov  7 00:10 \u001b[01;34m.git\u001b[0m/\r\n"
     ]
    }
   ],
   "source": [
    "ls -la"
   ]
  },
  {
   "cell_type": "markdown",
   "metadata": {},
   "source": [
    "Now you can see that there is a hidden folder `.git` (notice the dot that marks it as a hidden folder), which is the GIT repo"
   ]
  },
  {
   "cell_type": "code",
   "execution_count": 11,
   "metadata": {
    "execution": {
     "iopub.execute_input": "2022-11-07T00:10:26.407027Z",
     "iopub.status.busy": "2022-11-07T00:10:26.406732Z",
     "iopub.status.idle": "2022-11-07T00:10:26.561991Z",
     "shell.execute_reply": "2022-11-07T00:10:26.560604Z"
    }
   },
   "outputs": [
    {
     "name": "stdout",
     "output_type": "stream",
     "text": [
      "total 32\r\n",
      "-rw-r--r-- 1 runner docker   23 Nov  7 00:10 HEAD\r\n",
      "drwxr-xr-x 2 runner docker 4096 Nov  7 00:10 \u001b[0m\u001b[01;34mbranches\u001b[0m/\r\n",
      "-rw-r--r-- 1 runner docker   92 Nov  7 00:10 config\r\n",
      "-rwxr-xr-x 1 runner docker   73 Nov  7 00:10 \u001b[01;32mdescription\u001b[0m*\r\n",
      "drwxr-xr-x 2 runner docker 4096 Nov  7 00:10 \u001b[01;34mhooks\u001b[0m/\r\n",
      "drwxr-xr-x 2 runner docker 4096 Nov  7 00:10 \u001b[01;34minfo\u001b[0m/\r\n",
      "drwxr-xr-x 4 runner docker 4096 Nov  7 00:10 \u001b[01;34mobjects\u001b[0m/\r\n",
      "drwxr-xr-x 4 runner docker 4096 Nov  7 00:10 \u001b[01;34mrefs\u001b[0m/\r\n"
     ]
    }
   ],
   "source": [
    "ls -l .git"
   ]
  },
  {
   "cell_type": "markdown",
   "metadata": {},
   "source": [
    "Now let's edit our first file in the test directory with a text editor... I'm doing it programmatically here for automation purposes, but you'd normally be editing by hand"
   ]
  },
  {
   "cell_type": "code",
   "execution_count": 12,
   "metadata": {
    "execution": {
     "iopub.execute_input": "2022-11-07T00:10:26.567727Z",
     "iopub.status.busy": "2022-11-07T00:10:26.567405Z",
     "iopub.status.idle": "2022-11-07T00:10:26.721561Z",
     "shell.execute_reply": "2022-11-07T00:10:26.719648Z"
    }
   },
   "outputs": [],
   "source": [
    "!echo \"My first bit of text in the repo\" > README.md"
   ]
  },
  {
   "cell_type": "markdown",
   "metadata": {},
   "source": [
    "`ls` lists the contents of the current working directory"
   ]
  },
  {
   "cell_type": "code",
   "execution_count": 13,
   "metadata": {
    "execution": {
     "iopub.execute_input": "2022-11-07T00:10:26.728828Z",
     "iopub.status.busy": "2022-11-07T00:10:26.728003Z",
     "iopub.status.idle": "2022-11-07T00:10:26.881855Z",
     "shell.execute_reply": "2022-11-07T00:10:26.880662Z"
    }
   },
   "outputs": [
    {
     "name": "stdout",
     "output_type": "stream",
     "text": [
      "README.md\r\n"
     ]
    }
   ],
   "source": [
    "ls"
   ]
  },
  {
   "cell_type": "markdown",
   "metadata": {
    "slideshow": {
     "slide_type": "slide"
    }
   },
   "source": [
    "### `git add`: tell git about this new file"
   ]
  },
  {
   "cell_type": "code",
   "execution_count": 14,
   "metadata": {
    "execution": {
     "iopub.execute_input": "2022-11-07T00:10:26.886983Z",
     "iopub.status.busy": "2022-11-07T00:10:26.886707Z",
     "iopub.status.idle": "2022-11-07T00:10:27.040872Z",
     "shell.execute_reply": "2022-11-07T00:10:27.038996Z"
    }
   },
   "outputs": [],
   "source": [
    "!git add README.md"
   ]
  },
  {
   "cell_type": "markdown",
   "metadata": {},
   "source": [
    "We can now ask git about what happened with `status`:"
   ]
  },
  {
   "cell_type": "code",
   "execution_count": 15,
   "metadata": {
    "execution": {
     "iopub.execute_input": "2022-11-07T00:10:27.047185Z",
     "iopub.status.busy": "2022-11-07T00:10:27.046806Z",
     "iopub.status.idle": "2022-11-07T00:10:27.203279Z",
     "shell.execute_reply": "2022-11-07T00:10:27.201714Z"
    }
   },
   "outputs": [
    {
     "name": "stdout",
     "output_type": "stream",
     "text": [
      "On branch master\r\n",
      "\r\n",
      "No commits yet\r\n",
      "\r\n",
      "Changes to be committed:\r\n",
      "  (use \"git rm --cached <file>...\" to unstage)\r\n",
      "\t\u001b[32mnew file:   README.md\u001b[m\r\n",
      "\r\n"
     ]
    }
   ],
   "source": [
    "!git status"
   ]
  },
  {
   "cell_type": "markdown",
   "metadata": {
    "slideshow": {
     "slide_type": "slide"
    }
   },
   "source": [
    "### `git commit`: permanently record our changes in git's database"
   ]
  },
  {
   "cell_type": "markdown",
   "metadata": {},
   "source": [
    "For now, we are *always* going to call `git commit` either with the `-a` option *or* with specific filenames (`git commit file1 file2...`).  This delays the discussion of an aspect of git called the *index* (often referred to also as the 'staging area') that we will cover later.  Most everyday work in regular scientific practice doesn't require understanding the extra moving parts that the index involves, so on a first round we'll bypass it.  Later on we will discuss how to use it to achieve more fine-grained control of what and how git records our actions."
   ]
  },
  {
   "cell_type": "code",
   "execution_count": 16,
   "metadata": {
    "execution": {
     "iopub.execute_input": "2022-11-07T00:10:27.208884Z",
     "iopub.status.busy": "2022-11-07T00:10:27.208133Z",
     "iopub.status.idle": "2022-11-07T00:10:27.368116Z",
     "shell.execute_reply": "2022-11-07T00:10:27.366706Z"
    }
   },
   "outputs": [
    {
     "name": "stdout",
     "output_type": "stream",
     "text": [
      "[master (root-commit) 93bb70a] First commit\r\n",
      " 1 file changed, 1 insertion(+)\r\n",
      " create mode 100644 README.md\r\n"
     ]
    }
   ],
   "source": [
    "!git commit -a -m \"First commit\""
   ]
  },
  {
   "cell_type": "markdown",
   "metadata": {},
   "source": [
    "In the commit above, we  used the `-m` flag to specify a message at the command line.  If we don't do that, git will open the editor we specified in our configuration above and require that we enter a message.  By default, git refuses to record changes that don't have a message to go along with them (though you can obviously 'cheat' by using an empty or meaningless string: git only tries to facilitate best practices, it's not your nanny)."
   ]
  },
  {
   "cell_type": "markdown",
   "metadata": {
    "slideshow": {
     "slide_type": "slide"
    }
   },
   "source": [
    "### `git log`: what has been committed so far"
   ]
  },
  {
   "cell_type": "code",
   "execution_count": 17,
   "metadata": {
    "execution": {
     "iopub.execute_input": "2022-11-07T00:10:27.373361Z",
     "iopub.status.busy": "2022-11-07T00:10:27.372658Z",
     "iopub.status.idle": "2022-11-07T00:10:27.525403Z",
     "shell.execute_reply": "2022-11-07T00:10:27.523651Z"
    }
   },
   "outputs": [
    {
     "name": "stdout",
     "output_type": "stream",
     "text": [
      "\u001b[33mcommit 93bb70affbd05cf2e758bfe249ad7f7414e737b5\u001b[m\u001b[33m (\u001b[m\u001b[1;36mHEAD -> \u001b[m\u001b[1;32mmaster\u001b[m\u001b[33m)\u001b[m\r\n",
      "Author: joaquin <user@gmail.com>\r\n",
      "Date:   Mon Nov 7 00:10:27 2022 +0000\r\n",
      "\r\n",
      "    First commit\r\n"
     ]
    }
   ],
   "source": [
    "!git log"
   ]
  },
  {
   "cell_type": "markdown",
   "metadata": {},
   "source": [
    "### `git diff`: what have I changed?"
   ]
  },
  {
   "cell_type": "markdown",
   "metadata": {},
   "source": [
    "Let's do a little bit more work... Again, in practice you'll be editing the files by hand, here we do it via shell commands for the sake of automation (and therefore the reproducibility of this tutorial!)"
   ]
  },
  {
   "cell_type": "code",
   "execution_count": 18,
   "metadata": {
    "execution": {
     "iopub.execute_input": "2022-11-07T00:10:27.532660Z",
     "iopub.status.busy": "2022-11-07T00:10:27.532023Z",
     "iopub.status.idle": "2022-11-07T00:10:27.685699Z",
     "shell.execute_reply": "2022-11-07T00:10:27.684397Z"
    }
   },
   "outputs": [],
   "source": [
    "!echo \"And now we add a second line...\" >> README.md"
   ]
  },
  {
   "cell_type": "markdown",
   "metadata": {},
   "source": [
    "And now we can ask git what is different:"
   ]
  },
  {
   "cell_type": "code",
   "execution_count": 19,
   "metadata": {
    "execution": {
     "iopub.execute_input": "2022-11-07T00:10:27.691868Z",
     "iopub.status.busy": "2022-11-07T00:10:27.690203Z",
     "iopub.status.idle": "2022-11-07T00:10:27.842888Z",
     "shell.execute_reply": "2022-11-07T00:10:27.841116Z"
    }
   },
   "outputs": [
    {
     "name": "stdout",
     "output_type": "stream",
     "text": [
      "\u001b[1mdiff --git a/README.md b/README.md\u001b[m\r\n",
      "\u001b[1mindex db447fe..466ed60 100644\u001b[m\r\n",
      "\u001b[1m--- a/README.md\u001b[m\r\n",
      "\u001b[1m+++ b/README.md\u001b[m\r\n",
      "\u001b[36m@@ -1 +1,2 @@\u001b[m\r\n",
      " My first bit of text in the repo\u001b[m\r\n",
      "\u001b[32m+\u001b[m\u001b[32mAnd now we add a second line...\u001b[m\r\n"
     ]
    }
   ],
   "source": [
    "!git diff"
   ]
  },
  {
   "cell_type": "markdown",
   "metadata": {},
   "source": [
    "### The cycle of git virtue: work, commit, work, commit, ..."
   ]
  },
  {
   "cell_type": "code",
   "execution_count": 20,
   "metadata": {
    "execution": {
     "iopub.execute_input": "2022-11-07T00:10:27.847653Z",
     "iopub.status.busy": "2022-11-07T00:10:27.847145Z",
     "iopub.status.idle": "2022-11-07T00:10:27.999107Z",
     "shell.execute_reply": "2022-11-07T00:10:27.997760Z"
    }
   },
   "outputs": [
    {
     "name": "stdout",
     "output_type": "stream",
     "text": [
      "[master be4de95] added second line.\r\n",
      " 1 file changed, 1 insertion(+)\r\n"
     ]
    }
   ],
   "source": [
    "!git commit -a -m \"added second line.\""
   ]
  },
  {
   "cell_type": "markdown",
   "metadata": {},
   "source": [
    "### `git log` revisited"
   ]
  },
  {
   "cell_type": "markdown",
   "metadata": {},
   "source": [
    "First, let's see what the log shows us now:"
   ]
  },
  {
   "cell_type": "code",
   "execution_count": 21,
   "metadata": {
    "execution": {
     "iopub.execute_input": "2022-11-07T00:10:28.005543Z",
     "iopub.status.busy": "2022-11-07T00:10:28.005232Z",
     "iopub.status.idle": "2022-11-07T00:10:28.157673Z",
     "shell.execute_reply": "2022-11-07T00:10:28.156021Z"
    }
   },
   "outputs": [
    {
     "name": "stdout",
     "output_type": "stream",
     "text": [
      "\u001b[33mcommit be4de95f0a9d2c670b9b6eac9b3442a7f7b0bcb5\u001b[m\u001b[33m (\u001b[m\u001b[1;36mHEAD -> \u001b[m\u001b[1;32mmaster\u001b[m\u001b[33m)\u001b[m\r\n",
      "Author: joaquin <user@gmail.com>\r\n",
      "Date:   Mon Nov 7 00:10:27 2022 +0000\r\n",
      "\r\n",
      "    added second line.\r\n",
      "\r\n",
      "\u001b[33mcommit 93bb70affbd05cf2e758bfe249ad7f7414e737b5\u001b[m\r\n",
      "Author: joaquin <user@gmail.com>\r\n",
      "Date:   Mon Nov 7 00:10:27 2022 +0000\r\n",
      "\r\n",
      "    First commit\r\n"
     ]
    }
   ],
   "source": [
    "!git log"
   ]
  },
  {
   "cell_type": "markdown",
   "metadata": {},
   "source": [
    "Sometimes it's handy to see a very summarized version of the log:"
   ]
  },
  {
   "cell_type": "code",
   "execution_count": 22,
   "metadata": {
    "execution": {
     "iopub.execute_input": "2022-11-07T00:10:28.162808Z",
     "iopub.status.busy": "2022-11-07T00:10:28.162183Z",
     "iopub.status.idle": "2022-11-07T00:10:28.319561Z",
     "shell.execute_reply": "2022-11-07T00:10:28.318145Z"
    }
   },
   "outputs": [
    {
     "name": "stdout",
     "output_type": "stream",
     "text": [
      "* \u001b[33mbe4de95\u001b[m\u001b[33m (\u001b[m\u001b[1;36mHEAD -> \u001b[m\u001b[1;32mmaster\u001b[m\u001b[33m)\u001b[m added second line.\r\n",
      "* \u001b[33m93bb70a\u001b[m First commit\r\n"
     ]
    }
   ],
   "source": [
    "!git log --oneline --topo-order --graph"
   ]
  },
  {
   "cell_type": "markdown",
   "metadata": {},
   "source": [
    "Git supports *aliases:* new names given to command combinations. Let's make this handy shortlog an alias, so we only have to type `git slog` and see this compact log:"
   ]
  },
  {
   "cell_type": "code",
   "execution_count": 23,
   "metadata": {
    "execution": {
     "iopub.execute_input": "2022-11-07T00:10:28.324540Z",
     "iopub.status.busy": "2022-11-07T00:10:28.323984Z",
     "iopub.status.idle": "2022-11-07T00:10:28.632497Z",
     "shell.execute_reply": "2022-11-07T00:10:28.630911Z"
    }
   },
   "outputs": [
    {
     "name": "stdout",
     "output_type": "stream",
     "text": [
      "* \u001b[33mbe4de95\u001b[m\u001b[33m (\u001b[m\u001b[1;36mHEAD -> \u001b[m\u001b[1;32mmaster\u001b[m\u001b[33m)\u001b[m added second line.\r\n",
      "* \u001b[33m93bb70a\u001b[m First commit\r\n"
     ]
    }
   ],
   "source": [
    "# We create our alias (this saves it in git's permanent configuration file):\n",
    "!git config --global alias.slog \"log --oneline --topo-order --graph\"\n",
    "\n",
    "# And now we can use it\n",
    "!git slog"
   ]
  },
  {
   "cell_type": "markdown",
   "metadata": {},
   "source": [
    "### `git mv` and `rm`: moving and removing files"
   ]
  },
  {
   "cell_type": "markdown",
   "metadata": {},
   "source": [
    "While `git add` is used to add fills to the list git tracks, we must also tell it if we want their  names to change or for it to stop tracking them.  In familiar Unix fashion, the `mv` and `rm` git commands do precisely this:"
   ]
  },
  {
   "cell_type": "code",
   "execution_count": 24,
   "metadata": {
    "execution": {
     "iopub.execute_input": "2022-11-07T00:10:28.638370Z",
     "iopub.status.busy": "2022-11-07T00:10:28.638072Z",
     "iopub.status.idle": "2022-11-07T00:10:28.948868Z",
     "shell.execute_reply": "2022-11-07T00:10:28.947689Z"
    }
   },
   "outputs": [
    {
     "name": "stdout",
     "output_type": "stream",
     "text": [
      "On branch master\r\n",
      "Changes to be committed:\r\n",
      "  (use \"git restore --staged <file>...\" to unstage)\r\n",
      "\t\u001b[32mrenamed:    README.md -> README.markdown\u001b[m\r\n",
      "\r\n"
     ]
    }
   ],
   "source": [
    "!git mv README.md README.markdown\n",
    "!git status"
   ]
  },
  {
   "cell_type": "markdown",
   "metadata": {},
   "source": [
    "Note that these changes must be committed too, to become permanent!  In git's world, until something hasn't been committed, it isn't permanently recorded anywhere."
   ]
  },
  {
   "cell_type": "code",
   "execution_count": 25,
   "metadata": {
    "execution": {
     "iopub.execute_input": "2022-11-07T00:10:28.953499Z",
     "iopub.status.busy": "2022-11-07T00:10:28.952934Z",
     "iopub.status.idle": "2022-11-07T00:10:29.415571Z",
     "shell.execute_reply": "2022-11-07T00:10:29.413901Z"
    }
   },
   "outputs": [
    {
     "name": "stdout",
     "output_type": "stream",
     "text": [
      "[master 9067e9c] I like this new name better\r\n",
      " 1 file changed, 0 insertions(+), 0 deletions(-)\r\n",
      " rename README.md => README.markdown (100%)\r\n"
     ]
    },
    {
     "name": "stdout",
     "output_type": "stream",
     "text": [
      "Let's look at the log again:\r\n"
     ]
    },
    {
     "name": "stdout",
     "output_type": "stream",
     "text": [
      "* \u001b[33m9067e9c\u001b[m\u001b[33m (\u001b[m\u001b[1;36mHEAD -> \u001b[m\u001b[1;32mmaster\u001b[m\u001b[33m)\u001b[m I like this new name better\r\n",
      "* \u001b[33mbe4de95\u001b[m added second line.\r\n",
      "* \u001b[33m93bb70a\u001b[m First commit\r\n"
     ]
    }
   ],
   "source": [
    "!git commit -a -m \"I like this new name better\"\n",
    "!echo \"Let's look at the log again:\"\n",
    "!git slog"
   ]
  },
  {
   "cell_type": "markdown",
   "metadata": {},
   "source": [
    "And `git rm` works in a similar fashion removing the file from your repo."
   ]
  },
  {
   "cell_type": "markdown",
   "metadata": {
    "slideshow": {
     "slide_type": "slide"
    }
   },
   "source": [
    "## Local user, branching"
   ]
  },
  {
   "cell_type": "markdown",
   "metadata": {},
   "source": [
    "What is a branch?  A branch is a label for the state of a GIT repositories. It makes it easy to develop features and go back and forth between the original `master` and the copy `feature branch` version of the files inside the GIT repo\n",
    "\n",
    "![](https://i.imgur.com/Sw95CUf.png)\n",
    "\n",
    "Credit: Gitflow Atlassian"
   ]
  },
  {
   "cell_type": "markdown",
   "metadata": {},
   "source": [
    "There can be multiple branches alive at any point in time; the working directory is the state of a special pointer called HEAD.  In this example there are two branches, *master* and *develop*:"
   ]
  },
  {
   "cell_type": "markdown",
   "metadata": {},
   "source": [
    "Once new commits are made on a branch, HEAD and the branch label move with the new commits:"
   ]
  },
  {
   "cell_type": "markdown",
   "metadata": {},
   "source": [
    "This allows the history of both branches to diverge:"
   ]
  },
  {
   "cell_type": "markdown",
   "metadata": {},
   "source": [
    "But based on this graph structure, git can compute the necessary information to merge the divergent branches back and continue with a unified line of development:"
   ]
  },
  {
   "cell_type": "markdown",
   "metadata": {},
   "source": [
    "Let's now illustrate all of this with a concrete example."
   ]
  },
  {
   "cell_type": "code",
   "execution_count": 26,
   "metadata": {
    "execution": {
     "iopub.execute_input": "2022-11-07T00:10:29.421572Z",
     "iopub.status.busy": "2022-11-07T00:10:29.420773Z",
     "iopub.status.idle": "2022-11-07T00:10:29.579520Z",
     "shell.execute_reply": "2022-11-07T00:10:29.578444Z"
    }
   },
   "outputs": [
    {
     "name": "stdout",
     "output_type": "stream",
     "text": [
      "On branch master\r\n",
      "nothing to commit, working tree clean\r\n"
     ]
    }
   ],
   "source": [
    "!git status"
   ]
  },
  {
   "cell_type": "code",
   "execution_count": 27,
   "metadata": {
    "execution": {
     "iopub.execute_input": "2022-11-07T00:10:29.584025Z",
     "iopub.status.busy": "2022-11-07T00:10:29.583471Z",
     "iopub.status.idle": "2022-11-07T00:10:29.737610Z",
     "shell.execute_reply": "2022-11-07T00:10:29.735938Z"
    }
   },
   "outputs": [
    {
     "name": "stdout",
     "output_type": "stream",
     "text": [
      "README.markdown\r\n"
     ]
    }
   ],
   "source": [
    "!ls"
   ]
  },
  {
   "cell_type": "markdown",
   "metadata": {},
   "source": [
    "We are now going to try two different routes of development: on the `master` branch we will add one file and on the `emojis` branch, which we will create, we will add a different one.  We will then merge the emojis branch into `master`."
   ]
  },
  {
   "cell_type": "code",
   "execution_count": 28,
   "metadata": {
    "execution": {
     "iopub.execute_input": "2022-11-07T00:10:29.743686Z",
     "iopub.status.busy": "2022-11-07T00:10:29.742954Z",
     "iopub.status.idle": "2022-11-07T00:10:30.050260Z",
     "shell.execute_reply": "2022-11-07T00:10:30.048564Z"
    }
   },
   "outputs": [
    {
     "name": "stdout",
     "output_type": "stream",
     "text": [
      "Switched to branch 'emojis'\r\n"
     ]
    }
   ],
   "source": [
    "!git branch emojis\n",
    "!git checkout emojis"
   ]
  },
  {
   "cell_type": "code",
   "execution_count": 29,
   "metadata": {
    "execution": {
     "iopub.execute_input": "2022-11-07T00:10:30.057131Z",
     "iopub.status.busy": "2022-11-07T00:10:30.056634Z",
     "iopub.status.idle": "2022-11-07T00:10:30.664514Z",
     "shell.execute_reply": "2022-11-07T00:10:30.663048Z"
    }
   },
   "outputs": [
    {
     "name": "stdout",
     "output_type": "stream",
     "text": [
      "[emojis ac29f1f] Adding some emojis\r\n",
      " 1 file changed, 1 insertion(+)\r\n",
      " create mode 100644 emojis.md\r\n"
     ]
    },
    {
     "name": "stdout",
     "output_type": "stream",
     "text": [
      "* \u001b[33mac29f1f\u001b[m\u001b[33m (\u001b[m\u001b[1;36mHEAD -> \u001b[m\u001b[1;32memojis\u001b[m\u001b[33m)\u001b[m Adding some emojis\r\n",
      "* \u001b[33m9067e9c\u001b[m\u001b[33m (\u001b[m\u001b[1;32mmaster\u001b[m\u001b[33m)\u001b[m I like this new name better\r\n",
      "* \u001b[33mbe4de95\u001b[m added second line.\r\n",
      "* \u001b[33m93bb70a\u001b[m First commit\r\n"
     ]
    }
   ],
   "source": [
    "!echo \"Some emojis :smile:, :horse:, :cat:\" > emojis.md\n",
    "!git add emojis.md\n",
    "!git commit -a -m \"Adding some emojis\"\n",
    "!git slog"
   ]
  },
  {
   "cell_type": "code",
   "execution_count": 30,
   "metadata": {
    "execution": {
     "iopub.execute_input": "2022-11-07T00:10:30.669733Z",
     "iopub.status.busy": "2022-11-07T00:10:30.669027Z",
     "iopub.status.idle": "2022-11-07T00:10:30.976951Z",
     "shell.execute_reply": "2022-11-07T00:10:30.975332Z"
    }
   },
   "outputs": [
    {
     "name": "stdout",
     "output_type": "stream",
     "text": [
      "Switched to branch 'master'\r\n"
     ]
    },
    {
     "name": "stdout",
     "output_type": "stream",
     "text": [
      "* \u001b[33m9067e9c\u001b[m\u001b[33m (\u001b[m\u001b[1;36mHEAD -> \u001b[m\u001b[1;32mmaster\u001b[m\u001b[33m)\u001b[m I like this new name better\r\n",
      "* \u001b[33mbe4de95\u001b[m added second line.\r\n",
      "* \u001b[33m93bb70a\u001b[m First commit\r\n"
     ]
    }
   ],
   "source": [
    "!git checkout master\n",
    "!git slog"
   ]
  },
  {
   "cell_type": "code",
   "execution_count": 31,
   "metadata": {
    "execution": {
     "iopub.execute_input": "2022-11-07T00:10:30.982884Z",
     "iopub.status.busy": "2022-11-07T00:10:30.982164Z",
     "iopub.status.idle": "2022-11-07T00:10:31.133196Z",
     "shell.execute_reply": "2022-11-07T00:10:31.131846Z"
    }
   },
   "outputs": [
    {
     "name": "stdout",
     "output_type": "stream",
     "text": [
      "README.markdown\r\n"
     ]
    }
   ],
   "source": [
    "!ls"
   ]
  },
  {
   "cell_type": "markdown",
   "metadata": {},
   "source": [
    "As you can see there are no emjois file in master yet"
   ]
  },
  {
   "cell_type": "code",
   "execution_count": 32,
   "metadata": {
    "execution": {
     "iopub.execute_input": "2022-11-07T00:10:31.138565Z",
     "iopub.status.busy": "2022-11-07T00:10:31.137935Z",
     "iopub.status.idle": "2022-11-07T00:10:31.601444Z",
     "shell.execute_reply": "2022-11-07T00:10:31.600015Z"
    }
   },
   "outputs": [
    {
     "name": "stdout",
     "output_type": "stream",
     "text": [
      "[master a9700eb] The mainline keeps moving\r\n",
      " 1 file changed, 1 insertion(+)\r\n"
     ]
    },
    {
     "name": "stdout",
     "output_type": "stream",
     "text": [
      "* \u001b[33ma9700eb\u001b[m\u001b[33m (\u001b[m\u001b[1;36mHEAD -> \u001b[m\u001b[1;32mmaster\u001b[m\u001b[33m)\u001b[m The mainline keeps moving\r\n",
      "* \u001b[33m9067e9c\u001b[m I like this new name better\r\n",
      "* \u001b[33mbe4de95\u001b[m added second line.\r\n",
      "* \u001b[33m93bb70a\u001b[m First commit\r\n"
     ]
    }
   ],
   "source": [
    "!echo \"All the while, more work goes on in master...\" >> README.markdown\n",
    "!git commit -a -m \"The mainline keeps moving\"\n",
    "!git slog"
   ]
  },
  {
   "cell_type": "code",
   "execution_count": 33,
   "metadata": {
    "execution": {
     "iopub.execute_input": "2022-11-07T00:10:31.607964Z",
     "iopub.status.busy": "2022-11-07T00:10:31.606917Z",
     "iopub.status.idle": "2022-11-07T00:10:31.763027Z",
     "shell.execute_reply": "2022-11-07T00:10:31.759444Z"
    }
   },
   "outputs": [
    {
     "name": "stdout",
     "output_type": "stream",
     "text": [
      "README.markdown\r\n"
     ]
    }
   ],
   "source": [
    "ls"
   ]
  },
  {
   "cell_type": "code",
   "execution_count": 34,
   "metadata": {
    "execution": {
     "iopub.execute_input": "2022-11-07T00:10:31.767266Z",
     "iopub.status.busy": "2022-11-07T00:10:31.766961Z",
     "iopub.status.idle": "2022-11-07T00:10:32.085628Z",
     "shell.execute_reply": "2022-11-07T00:10:32.084549Z"
    }
   },
   "outputs": [
    {
     "name": "stdout",
     "output_type": "stream",
     "text": [
      "Merge made by the 'ort' strategy.\r\n",
      " emojis.md | 1 \u001b[32m+\u001b[m\r\n",
      " 1 file changed, 1 insertion(+)\r\n",
      " create mode 100644 emojis.md\r\n"
     ]
    },
    {
     "name": "stdout",
     "output_type": "stream",
     "text": [
      "*   \u001b[33ma94464e\u001b[m\u001b[33m (\u001b[m\u001b[1;36mHEAD -> \u001b[m\u001b[1;32mmaster\u001b[m\u001b[33m)\u001b[m merge emojis\r\n",
      "\u001b[31m|\u001b[m\u001b[32m\\\u001b[m  \r\n",
      "\u001b[31m|\u001b[m * \u001b[33mac29f1f\u001b[m\u001b[33m (\u001b[m\u001b[1;32memojis\u001b[m\u001b[33m)\u001b[m Adding some emojis\r\n",
      "* \u001b[32m|\u001b[m \u001b[33ma9700eb\u001b[m The mainline keeps moving\r\n",
      "\u001b[32m|\u001b[m\u001b[32m/\u001b[m  \r\n",
      "* \u001b[33m9067e9c\u001b[m I like this new name better\r\n",
      "* \u001b[33mbe4de95\u001b[m added second line.\r\n",
      "* \u001b[33m93bb70a\u001b[m First commit\r\n"
     ]
    }
   ],
   "source": [
    "!git merge emojis -m 'merge emojis'\n",
    "!git slog"
   ]
  },
  {
   "cell_type": "markdown",
   "metadata": {
    "slideshow": {
     "slide_type": "slide"
    }
   },
   "source": [
    "## Using remotes as a single user"
   ]
  },
  {
   "cell_type": "markdown",
   "metadata": {},
   "source": [
    "We are now going to introduce the concept of a *remote repository*: a pointer to another copy of the repository that lives on a different location.  This can be simply a different path on the filesystem or a server on the internet.\n",
    "\n",
    "For this discussion, we'll be using remotes hosted on the [GitHub.com](http://github.com) service, but you can equally use other services like [Gitlab](http://gitlab.com)\n",
    "\n",
    "Let's see if we have any remote repositories here:"
   ]
  },
  {
   "cell_type": "code",
   "execution_count": 35,
   "metadata": {
    "execution": {
     "iopub.execute_input": "2022-11-07T00:10:32.091061Z",
     "iopub.status.busy": "2022-11-07T00:10:32.090641Z",
     "iopub.status.idle": "2022-11-07T00:10:32.246365Z",
     "shell.execute_reply": "2022-11-07T00:10:32.244547Z"
    }
   },
   "outputs": [],
   "source": [
    "!git remote -v"
   ]
  },
  {
   "cell_type": "markdown",
   "metadata": {},
   "source": [
    "Since the above cell didn't produce any output after the `git remote -v` call, it means we have no remote repositories configured.  We will now proceed to do so.  Once logged into Github or Gitlab, go to the new repository page and make a repository called `test`.  Do **not** check the box that says `Initialize this repository with a README`, since we already have an existing repository here.  That option is useful when you're starting first at Github and don't have a repo made already on a local computer.\n",
    "\n",
    "We can now follow the instructions from the next page:"
   ]
  },
  {
   "cell_type": "markdown",
   "metadata": {},
   "source": [
    "### An important aside: conflict management"
   ]
  },
  {
   "cell_type": "markdown",
   "metadata": {},
   "source": [
    "While git is very good at merging, if two different branches modify the same file in the same location, it simply can't decide which change should prevail.  At that point, human intervention is necessary to make the decision.  Git will help you by marking the location in the file that has a problem, but it's up to you to resolve the conflict.  Let's see how that works by intentionally creating a conflict.\n",
    "\n",
    "We start by creating a branch and making a change to our experiment file:"
   ]
  },
  {
   "cell_type": "code",
   "execution_count": 36,
   "metadata": {
    "execution": {
     "iopub.execute_input": "2022-11-07T00:10:32.255627Z",
     "iopub.status.busy": "2022-11-07T00:10:32.254985Z",
     "iopub.status.idle": "2022-11-07T00:10:32.871428Z",
     "shell.execute_reply": "2022-11-07T00:10:32.869787Z"
    }
   },
   "outputs": [
    {
     "name": "stdout",
     "output_type": "stream",
     "text": [
      "Switched to branch 'trouble'\r\n"
     ]
    },
    {
     "name": "stdout",
     "output_type": "stream",
     "text": [
      "[trouble 7ac72b2] Adding a file for trouble\r\n",
      " 1 file changed, 1 insertion(+)\r\n"
     ]
    }
   ],
   "source": [
    "!git branch trouble\n",
    "!git checkout trouble\n",
    "!echo \"This is going to be a problem...\" >> README.markdown\n",
    "!git commit -a -m \"Adding a file for trouble\""
   ]
  },
  {
   "cell_type": "markdown",
   "metadata": {},
   "source": [
    "And now we go back to the master branch, where we change the *same* file:"
   ]
  },
  {
   "cell_type": "code",
   "execution_count": 37,
   "metadata": {
    "execution": {
     "iopub.execute_input": "2022-11-07T00:10:32.877825Z",
     "iopub.status.busy": "2022-11-07T00:10:32.877128Z",
     "iopub.status.idle": "2022-11-07T00:10:33.338579Z",
     "shell.execute_reply": "2022-11-07T00:10:33.337291Z"
    }
   },
   "outputs": [
    {
     "name": "stdout",
     "output_type": "stream",
     "text": [
      "Switched to branch 'master'\r\n"
     ]
    },
    {
     "name": "stdout",
     "output_type": "stream",
     "text": [
      "[master cbdcdde] Keep working on the experiment\r\n",
      " 1 file changed, 1 insertion(+)\r\n"
     ]
    }
   ],
   "source": [
    "!git checkout master\n",
    "!echo \"At the same time master keeps working on same line will cause a MERGE CONFLICT ...\" >> README.markdown\n",
    "!git commit -a -m \"Keep working on the experiment\""
   ]
  },
  {
   "cell_type": "markdown",
   "metadata": {},
   "source": [
    "So now let's see what happens if we try to merge the `trouble` branch into `master`:"
   ]
  },
  {
   "cell_type": "code",
   "execution_count": 38,
   "metadata": {
    "execution": {
     "iopub.execute_input": "2022-11-07T00:10:33.343876Z",
     "iopub.status.busy": "2022-11-07T00:10:33.343209Z",
     "iopub.status.idle": "2022-11-07T00:10:33.501463Z",
     "shell.execute_reply": "2022-11-07T00:10:33.500135Z"
    }
   },
   "outputs": [
    {
     "name": "stdout",
     "output_type": "stream",
     "text": [
      "Already on 'master'\r\n"
     ]
    }
   ],
   "source": [
    "!git checkout master"
   ]
  },
  {
   "cell_type": "code",
   "execution_count": 39,
   "metadata": {
    "execution": {
     "iopub.execute_input": "2022-11-07T00:10:33.507300Z",
     "iopub.status.busy": "2022-11-07T00:10:33.506635Z",
     "iopub.status.idle": "2022-11-07T00:10:33.665796Z",
     "shell.execute_reply": "2022-11-07T00:10:33.664552Z"
    }
   },
   "outputs": [
    {
     "name": "stdout",
     "output_type": "stream",
     "text": [
      "Auto-merging README.markdown\r\n",
      "CONFLICT (content): Merge conflict in README.markdown\r\n",
      "Automatic merge failed; fix conflicts and then commit the result.\r\n"
     ]
    }
   ],
   "source": [
    "!git merge trouble"
   ]
  },
  {
   "cell_type": "markdown",
   "metadata": {},
   "source": [
    "Let's see what git has put into our file:"
   ]
  },
  {
   "cell_type": "markdown",
   "metadata": {},
   "source": [
    "At this point, we go into the file with a text editor, decide which changes to keep, and make a new commit that records our decision.  I've now made the edits, in this case I decided that both pieces of text were useful, but integrated them with some changes:"
   ]
  },
  {
   "cell_type": "markdown",
   "metadata": {},
   "source": [
    "Let's then make our new commit:"
   ]
  },
  {
   "cell_type": "code",
   "execution_count": 40,
   "metadata": {
    "execution": {
     "iopub.execute_input": "2022-11-07T00:10:33.670197Z",
     "iopub.status.busy": "2022-11-07T00:10:33.669932Z",
     "iopub.status.idle": "2022-11-07T00:10:33.674528Z",
     "shell.execute_reply": "2022-11-07T00:10:33.673881Z"
    }
   },
   "outputs": [],
   "source": [
    "#!git commit -a -m \"Completed merge of trouble, fixing conflicts along the way\"\n",
    "#!git slog"
   ]
  },
  {
   "cell_type": "markdown",
   "metadata": {},
   "source": [
    "*Note:* While it's a good idea to understand the basics of fixing merge conflicts by hand, in some cases you may find the use of an automated tool useful.  Git supports multiple [merge tools](https://www.kernel.org/pub/software/scm/git/docs/git-mergetool.html): a merge tool is a piece of software that conforms to a basic interface and knows how to merge two files into a new one.  Since these are typically graphical tools, there are various to choose from for the different operating systems, and as long as they obey a basic command structure, git can work with any of them."
   ]
  },
  {
   "cell_type": "markdown",
   "metadata": {
    "slideshow": {
     "slide_type": "slide"
    }
   },
   "source": [
    "## Git resources"
   ]
  },
  {
   "cell_type": "markdown",
   "metadata": {},
   "source": [
    "this tutorial is based on  [Francisco Perez GIT notebook](https://github.com/fperez/reprosw)  and has some ideas from the other links:\n",
    "\n",
    "- [atlassian tutorial](https://www.atlassian.com/git/tutorials/what-is-version-control)\n",
    "- [Github tutorial](https://docs.github.com/en/get-started/quickstart/hello-world)\n",
    "- [tutorial on version control](http://nbviewer.ipython.org/urls/raw.github.com/jrjohansson/scientific-python-lectures/master/Lecture-7-Revision-Control-Software.ipynb)\n",
    "- [\"Git for Scientists: A Tutorial\"](https://github.com/johnmcdonnell/Git-Tutorial) by John McDonnell\n",
    "- Emanuele Olivetti's lecture notes and exercises from the G-Node summer school on [Advanced Scientific Programming in Python](https://python.g-node.org/wiki/schedule).\n",
    "- [Pro Git book](http://git-scm.com/book)\n",
    "- [Cheat sheet](https://education.github.com/git-cheat-sheet-education.pdf)\n",
    "- [Git ready](http://www.gitready.com). A great website of posts on specific git-related topics, organized by difficulty.\n",
    "- [Git Magic](http://www-cs-students.stanford.edu/~blynn/gitmagic/index.html). Another book-size guide that has useful snippets.\n",
    "- [port](http://cworth.org/hgbook-git/tour) of the Hg book"
   ]
  },
  {
   "cell_type": "markdown",
   "metadata": {},
   "source": [
    "## Photonics resources\n",
    "\n",
    "You can `git clone` some repositories for photonics and `install` the repo\n",
    "\n",
    "Also, you can also add your fork information, `git add`, `git commit`, `git push` your changes and then send a pull request (request to merge your changes)"
   ]
  },
  {
   "cell_type": "markdown",
   "metadata": {},
   "source": [
    "For photonics layout you can take a look at [gdsfactory](https://gdsfactory.github.io/gdsfactory/)\n",
    "\n",
    "\n",
    "and copy paste these lines below changing `YourGithubUserName` with you GitHub username\n",
    "```bash\n",
    "!git clone https://github.com/gdsfactory/gdsfactory.git\n",
    "!cd gdsfactory\n",
    "!make install\n",
    "!git remote add fork git@github.com:YourGithubUserName/gdsfactory.git\n",
    "```"
   ]
  },
  {
   "cell_type": "code",
   "execution_count": null,
   "metadata": {},
   "outputs": [],
   "source": []
  },
  {
   "cell_type": "markdown",
   "metadata": {},
   "source": [
    "For photonics layout you can take a look at [UBCpdk](https://gdsfactory.github.io/ubc/)\n",
    "\n",
    "\n",
    "and copy paste these lines below changing `YourGithubUserName` with you GitHub username\n",
    "```bash\n",
    "!git clone https://github.com/gdsfactory/ubc.git\n",
    "!cd ubc\n",
    "!make install\n",
    "!git remote add fork git@github.com:YourGithubUserName/ubc.git\n",
    "```"
   ]
  },
  {
   "cell_type": "code",
   "execution_count": null,
   "metadata": {},
   "outputs": [],
   "source": []
  },
  {
   "cell_type": "markdown",
   "metadata": {},
   "source": [
    "For solving modes can take a look at [modes](https://modes.readthedocs.io/en/latest/notebooks.html)\n",
    "\n",
    "and copy paste these lines below changing `YourGithubUserName` with you GitHub username\n",
    "```bash\n",
    "!git clone https://github.com/joamatab/modesolverpy.git\n",
    "!cd modesolverpy\n",
    "!make install\n",
    "!git remote add fork git@github.com:YourGithubUserName/modesolverpy.git\n",
    "```"
   ]
  },
  {
   "cell_type": "code",
   "execution_count": null,
   "metadata": {},
   "outputs": [],
   "source": []
  }
 ],
 "metadata": {
  "kernelspec": {
   "display_name": "Python 3 (ipykernel)",
   "language": "python",
   "name": "python3"
  },
  "language_info": {
   "codemirror_mode": {
    "name": "ipython",
    "version": 3
   },
   "file_extension": ".py",
   "mimetype": "text/x-python",
   "name": "python",
   "nbconvert_exporter": "python",
   "pygments_lexer": "ipython3",
   "version": "3.9.13"
  }
 },
 "nbformat": 4,
 "nbformat_minor": 4
}
