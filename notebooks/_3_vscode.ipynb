{
 "cells": [
  {
   "cell_type": "markdown",
   "id": "5885d820-9fad-4934-aaf2-53fce3fd5d86",
   "metadata": {
    "tags": []
   },
   "source": [
    "# VScode, PyCharm, Spyder, JupyterLab integration\n",
    "\n",
    "gdsfactory works with any python IDE. Here are the most popular ones"
   ]
  },
  {
   "cell_type": "markdown",
   "id": "61fdd150-4b2e-4dcc-8b15-93713efff1f2",
   "metadata": {},
   "source": [
    "By default the gdsfactory installer installs Spyder and JupyterLab\n",
    "\n",
    "You can launch them from the anaconda navigator\n",
    "\n",
    "![anaconda](https://i.imgur.com/bw65Jya.png)"
   ]
  },
  {
   "cell_type": "markdown",
   "id": "962c64bb-68a2-4ffe-9ce1-a002111f2c1a",
   "metadata": {},
   "source": [
    "## Spyder\n",
    "\n",
    "Spyder the most similar IDE to Matlab.\n",
    "\n",
    "The gdsfactory installer installs Spyder\n",
    "\n",
    "![spyder](https://i.imgur.com/5vRMm0M.png)\n",
    "\n",
    "Spyder by default uses the correct python that you installed with gdsfactory\n",
    "\n",
    "![spyder ipython](https://i.imgur.com/FotCgPh.png)"
   ]
  },
  {
   "cell_type": "markdown",
   "id": "c1b5d785-f447-4fb7-bb66-2105f12feb77",
   "metadata": {},
   "source": [
    "## JupyterLab\n",
    "\n",
    "The gdsfactory installer also install Jupyterlab\n",
    "\n",
    "You can launch jupyterlab from the anaconda navigator\n",
    "\n",
    "Jupyter notebooks are a great way to go through tutorials like this one.\n",
    "\n",
    "![jupyterlab](https://i.imgur.com/WX0XEGg.png)"
   ]
  },
  {
   "cell_type": "markdown",
   "id": "89e9a3a5-4490-44e3-9ae2-6ac9ae233fca",
   "metadata": {},
   "source": [
    "## VScode\n",
    "\n",
    "VSCode is a free open source popular editor that you can [install](https://code.visualstudio.com/)\n",
    "\n",
    "gdsfactory has a VScode extension that you can install from the marketplace.\n",
    "\n",
    "The extension provides you with useful code snippets\n",
    "\n",
    "![](https://i.imgur.com/89OPCQ1.png)"
   ]
  },
  {
   "cell_type": "markdown",
   "id": "a2404ca8-1863-46c9-9187-11ddfa4cdcfc",
   "metadata": {},
   "source": [
    "## PyCharm\n",
    "\n",
    "PyCharm is also a popular python IDE that you can [install](https://www.jetbrains.com/pycharm/)\n",
    "\n",
    "![](https://i.imgur.com/bK11wZW.png)"
   ]
  },
  {
   "cell_type": "code",
   "execution_count": null,
   "id": "ec801034-7a12-492c-8d14-e4cc7df3873d",
   "metadata": {},
   "outputs": [],
   "source": []
  }
 ],
 "metadata": {
  "kernelspec": {
   "display_name": "Python 3 (ipykernel)",
   "language": "python",
   "name": "python3"
  },
  "language_info": {
   "codemirror_mode": {
    "name": "ipython",
    "version": 3
   },
   "file_extension": ".py",
   "mimetype": "text/x-python",
   "name": "python",
   "nbconvert_exporter": "python",
   "pygments_lexer": "ipython3",
   "version": "3.10.6"
  }
 },
 "nbformat": 4,
 "nbformat_minor": 5
}
